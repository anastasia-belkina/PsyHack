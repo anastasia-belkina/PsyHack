{
 "cells": [
  {
   "cell_type": "markdown",
   "metadata": {},
   "source": [
    "Загружаем и предобрабатываем данные"
   ]
  },
  {
   "cell_type": "code",
   "execution_count": 12,
   "metadata": {},
   "outputs": [
    {
     "data": {
      "text/html": [
       "<div>\n",
       "<style scoped>\n",
       "    .dataframe tbody tr th:only-of-type {\n",
       "        vertical-align: middle;\n",
       "    }\n",
       "\n",
       "    .dataframe tbody tr th {\n",
       "        vertical-align: top;\n",
       "    }\n",
       "\n",
       "    .dataframe thead th {\n",
       "        text-align: right;\n",
       "    }\n",
       "</style>\n",
       "<table border=\"1\" class=\"dataframe\">\n",
       "  <thead>\n",
       "    <tr style=\"text-align: right;\">\n",
       "      <th></th>\n",
       "      <th>ID</th>\n",
       "      <th>label</th>\n",
       "      <th>text</th>\n",
       "    </tr>\n",
       "  </thead>\n",
       "  <tbody>\n",
       "    <tr>\n",
       "      <th>0</th>\n",
       "      <td>307</td>\n",
       "      <td>Non-depression</td>\n",
       "      <td>С детства я люблю футбол. Самые теплые воспоми...</td>\n",
       "    </tr>\n",
       "    <tr>\n",
       "      <th>1</th>\n",
       "      <td>243</td>\n",
       "      <td>Non-depression</td>\n",
       "      <td>Каждому человеку нужен мир. Мир- это весь земн...</td>\n",
       "    </tr>\n",
       "    <tr>\n",
       "      <th>2</th>\n",
       "      <td>73</td>\n",
       "      <td>Non-depression</td>\n",
       "      <td>Я, другие и мир. Да, именно в таком порядке ме...</td>\n",
       "    </tr>\n",
       "    <tr>\n",
       "      <th>3</th>\n",
       "      <td>301</td>\n",
       "      <td>Non-depression</td>\n",
       "      <td>Позиционирование себя как полноценного человек...</td>\n",
       "    </tr>\n",
       "    <tr>\n",
       "      <th>4</th>\n",
       "      <td>60</td>\n",
       "      <td>Non-depression</td>\n",
       "      <td>Я, другие и мир. Такая неопределенная тема. Мы...</td>\n",
       "    </tr>\n",
       "    <tr>\n",
       "      <th>5</th>\n",
       "      <td>128</td>\n",
       "      <td>Non-depression</td>\n",
       "      <td>К каждому человеку я отношусь изначально позит...</td>\n",
       "    </tr>\n",
       "    <tr>\n",
       "      <th>6</th>\n",
       "      <td>157</td>\n",
       "      <td>Depression</td>\n",
       "      <td>«Я, другие, мир».Все меняется в этом мире. Мен...</td>\n",
       "    </tr>\n",
       "    <tr>\n",
       "      <th>7</th>\n",
       "      <td>294</td>\n",
       "      <td>Depression</td>\n",
       "      <td>Приветсвую, меня зовут Никита. Мне 20 полных л...</td>\n",
       "    </tr>\n",
       "    <tr>\n",
       "      <th>8</th>\n",
       "      <td>67</td>\n",
       "      <td>Non-depression</td>\n",
       "      <td>В данном эссе я попытаюсь дать оценку своему х...</td>\n",
       "    </tr>\n",
       "    <tr>\n",
       "      <th>9</th>\n",
       "      <td>117</td>\n",
       "      <td>Non-depression</td>\n",
       "      <td>Как много всего нас окружает, и как мало мы за...</td>\n",
       "    </tr>\n",
       "  </tbody>\n",
       "</table>\n",
       "</div>"
      ],
      "text/plain": [
       "    ID           label                                               text\n",
       "0  307  Non-depression  С детства я люблю футбол. Самые теплые воспоми...\n",
       "1  243  Non-depression  Каждому человеку нужен мир. Мир- это весь земн...\n",
       "2   73  Non-depression  Я, другие и мир. Да, именно в таком порядке ме...\n",
       "3  301  Non-depression  Позиционирование себя как полноценного человек...\n",
       "4   60  Non-depression  Я, другие и мир. Такая неопределенная тема. Мы...\n",
       "5  128  Non-depression  К каждому человеку я отношусь изначально позит...\n",
       "6  157      Depression  «Я, другие, мир».Все меняется в этом мире. Мен...\n",
       "7  294      Depression  Приветсвую, меня зовут Никита. Мне 20 полных л...\n",
       "8   67  Non-depression  В данном эссе я попытаюсь дать оценку своему х...\n",
       "9  117  Non-depression  Как много всего нас окружает, и как мало мы за..."
      ]
     },
     "execution_count": 12,
     "metadata": {},
     "output_type": "execute_result"
    }
   ],
   "source": [
    "import pandas as pd\n",
    "\n",
    "data = pd.read_csv('PsyHack_RUDN_train.csv', sep='\\t')\n",
    "data.head(10)"
   ]
  },
  {
   "cell_type": "markdown",
   "metadata": {},
   "source": [
    "## Подготовка текста"
   ]
  },
  {
   "cell_type": "code",
   "execution_count": 13,
   "metadata": {},
   "outputs": [],
   "source": [
    "import pymorphy2, re"
   ]
  },
  {
   "cell_type": "code",
   "execution_count": 14,
   "metadata": {},
   "outputs": [],
   "source": [
    "morph = pymorphy2.MorphAnalyzer()"
   ]
  },
  {
   "cell_type": "code",
   "execution_count": 105,
   "metadata": {},
   "outputs": [],
   "source": [
    "def normy_text(text):\n",
    "    new_text = ''\n",
    "    grams_exclusion = {'PREP', 'CONJ', 'INTJ', 'Name', 'Surn', 'Patr', 'Orgn', 'Trad'}\n",
    "#     grams_exclusion = {'PREP', 'CONJ', 'PRCL', 'INTJ', 'Name', 'Surn', 'Patr', 'Orgn', 'Trad'}\n",
    "    # PREP - предлог.\n",
    "    # CONJ - союз.\n",
    "    # PRCL - частица.\n",
    "    # INTJ - междометие.\n",
    "    # Name - имя.\n",
    "    # Surn - Фамилия.\n",
    "    # Patr - отчество.\n",
    "    # Orgn - организация.\n",
    "    # Trad - торговая марка.\n",
    "    # text = re.sub('[^а-яА-Яa-zA-Z]', ' ', text)\n",
    "    text = re.sub('[^а-яА-Яa-zA-ZёЁ]', ' ', text)\n",
    "\n",
    "    words = text.split()\n",
    "    for word in words:\n",
    "        p = morph.parse(word)[0]\n",
    "        if not any(tag in p.tag for tag in grams_exclusion):\n",
    "            new_text += ' ' + p.normal_form\n",
    "    new_text = new_text[1:]\n",
    "    return new_text\n",
    "\n"
   ]
  },
  {
   "cell_type": "code",
   "execution_count": 106,
   "metadata": {},
   "outputs": [
    {
     "data": {
      "text/plain": [
       "'не дружить'"
      ]
     },
     "execution_count": 106,
     "metadata": {},
     "output_type": "execute_result"
    }
   ],
   "source": [
    "normy_text(\"не дружит\")"
   ]
  },
  {
   "cell_type": "code",
   "execution_count": 107,
   "metadata": {},
   "outputs": [],
   "source": [
    "data['text_lem'] = data['text'].apply(lambda x: normy_text(x))"
   ]
  },
  {
   "cell_type": "code",
   "execution_count": 108,
   "metadata": {},
   "outputs": [
    {
     "data": {
      "text/html": [
       "<div>\n",
       "<style scoped>\n",
       "    .dataframe tbody tr th:only-of-type {\n",
       "        vertical-align: middle;\n",
       "    }\n",
       "\n",
       "    .dataframe tbody tr th {\n",
       "        vertical-align: top;\n",
       "    }\n",
       "\n",
       "    .dataframe thead th {\n",
       "        text-align: right;\n",
       "    }\n",
       "</style>\n",
       "<table border=\"1\" class=\"dataframe\">\n",
       "  <thead>\n",
       "    <tr style=\"text-align: right;\">\n",
       "      <th></th>\n",
       "      <th>ID</th>\n",
       "      <th>label</th>\n",
       "      <th>text</th>\n",
       "      <th>text_lem</th>\n",
       "    </tr>\n",
       "  </thead>\n",
       "  <tbody>\n",
       "    <tr>\n",
       "      <th>0</th>\n",
       "      <td>307</td>\n",
       "      <td>Non-depression</td>\n",
       "      <td>С детства я люблю футбол. Самые теплые воспоми...</td>\n",
       "      <td>детство я любить футбол самый тёплый воспомина...</td>\n",
       "    </tr>\n",
       "    <tr>\n",
       "      <th>1</th>\n",
       "      <td>243</td>\n",
       "      <td>Non-depression</td>\n",
       "      <td>Каждому человеку нужен мир. Мир- это весь земн...</td>\n",
       "      <td>каждый человек нужный мир мир это весь земной ...</td>\n",
       "    </tr>\n",
       "    <tr>\n",
       "      <th>2</th>\n",
       "      <td>73</td>\n",
       "      <td>Non-depression</td>\n",
       "      <td>Я, другие и мир. Да, именно в таком порядке ме...</td>\n",
       "      <td>я другой мир да именно такой порядок я устраив...</td>\n",
       "    </tr>\n",
       "    <tr>\n",
       "      <th>3</th>\n",
       "      <td>301</td>\n",
       "      <td>Non-depression</td>\n",
       "      <td>Позиционирование себя как полноценного человек...</td>\n",
       "      <td>позиционирование себя полноценный человек восп...</td>\n",
       "    </tr>\n",
       "    <tr>\n",
       "      <th>4</th>\n",
       "      <td>60</td>\n",
       "      <td>Non-depression</td>\n",
       "      <td>Я, другие и мир. Такая неопределенная тема. Мы...</td>\n",
       "      <td>я другой мир такой неопределённый тема мысль с...</td>\n",
       "    </tr>\n",
       "    <tr>\n",
       "      <th>5</th>\n",
       "      <td>128</td>\n",
       "      <td>Non-depression</td>\n",
       "      <td>К каждому человеку я отношусь изначально позит...</td>\n",
       "      <td>каждый человек я относиться изначально позитив...</td>\n",
       "    </tr>\n",
       "    <tr>\n",
       "      <th>6</th>\n",
       "      <td>157</td>\n",
       "      <td>Depression</td>\n",
       "      <td>«Я, другие, мир».Все меняется в этом мире. Мен...</td>\n",
       "      <td>я другой мир весь меняться это мир меняться я ...</td>\n",
       "    </tr>\n",
       "    <tr>\n",
       "      <th>7</th>\n",
       "      <td>294</td>\n",
       "      <td>Depression</td>\n",
       "      <td>Приветсвую, меня зовут Никита. Мне 20 полных л...</td>\n",
       "      <td>приветсвый я звать я полный год учиться сначал...</td>\n",
       "    </tr>\n",
       "    <tr>\n",
       "      <th>8</th>\n",
       "      <td>67</td>\n",
       "      <td>Non-depression</td>\n",
       "      <td>В данном эссе я попытаюсь дать оценку своему х...</td>\n",
       "      <td>дать эссе я попытаться дать оценка свой характ...</td>\n",
       "    </tr>\n",
       "    <tr>\n",
       "      <th>9</th>\n",
       "      <td>117</td>\n",
       "      <td>Non-depression</td>\n",
       "      <td>Как много всего нас окружает, и как мало мы за...</td>\n",
       "      <td>много всего мы окружать мало мы замечать чаща ...</td>\n",
       "    </tr>\n",
       "  </tbody>\n",
       "</table>\n",
       "</div>"
      ],
      "text/plain": [
       "    ID           label                                               text  \\\n",
       "0  307  Non-depression  С детства я люблю футбол. Самые теплые воспоми...   \n",
       "1  243  Non-depression  Каждому человеку нужен мир. Мир- это весь земн...   \n",
       "2   73  Non-depression  Я, другие и мир. Да, именно в таком порядке ме...   \n",
       "3  301  Non-depression  Позиционирование себя как полноценного человек...   \n",
       "4   60  Non-depression  Я, другие и мир. Такая неопределенная тема. Мы...   \n",
       "5  128  Non-depression  К каждому человеку я отношусь изначально позит...   \n",
       "6  157      Depression  «Я, другие, мир».Все меняется в этом мире. Мен...   \n",
       "7  294      Depression  Приветсвую, меня зовут Никита. Мне 20 полных л...   \n",
       "8   67  Non-depression  В данном эссе я попытаюсь дать оценку своему х...   \n",
       "9  117  Non-depression  Как много всего нас окружает, и как мало мы за...   \n",
       "\n",
       "                                            text_lem  \n",
       "0  детство я любить футбол самый тёплый воспомина...  \n",
       "1  каждый человек нужный мир мир это весь земной ...  \n",
       "2  я другой мир да именно такой порядок я устраив...  \n",
       "3  позиционирование себя полноценный человек восп...  \n",
       "4  я другой мир такой неопределённый тема мысль с...  \n",
       "5  каждый человек я относиться изначально позитив...  \n",
       "6  я другой мир весь меняться это мир меняться я ...  \n",
       "7  приветсвый я звать я полный год учиться сначал...  \n",
       "8  дать эссе я попытаться дать оценка свой характ...  \n",
       "9  много всего мы окружать мало мы замечать чаща ...  "
      ]
     },
     "execution_count": 108,
     "metadata": {},
     "output_type": "execute_result"
    }
   ],
   "source": [
    "data.head(10)"
   ]
  },
  {
   "cell_type": "markdown",
   "metadata": {},
   "source": [
    "## TF-IDF"
   ]
  },
  {
   "cell_type": "code",
   "execution_count": 173,
   "metadata": {},
   "outputs": [
    {
     "data": {
      "text/plain": [
       "TfidfVectorizer(analyzer='word', binary=False, decode_error='strict',\n",
       "        dtype=<class 'numpy.float64'>, encoding='cp1251', input='content',\n",
       "        lowercase=True, max_df=0.2, max_features=None, min_df=2,\n",
       "        ngram_range=(1, 2), norm='l2', preprocessor=None, smooth_idf=True,\n",
       "        stop_words=None, strip_accents=None, sublinear_tf=False,\n",
       "        token_pattern='(?u)\\\\b\\\\w\\\\w+\\\\b', tokenizer=None, use_idf=True,\n",
       "        vocabulary=None)"
      ]
     },
     "execution_count": 173,
     "metadata": {},
     "output_type": "execute_result"
    }
   ],
   "source": [
    "from sklearn.feature_extraction.text import TfidfVectorizer\n",
    "vec = TfidfVectorizer(ngram_range=(1,2), lowercase=True, min_df=2, max_df=0.2, encoding='cp1251')\n",
    "vec.fit(data['text_lem'])"
   ]
  },
  {
   "cell_type": "code",
   "execution_count": 174,
   "metadata": {},
   "outputs": [],
   "source": [
    "from sklearn.preprocessing import LabelEncoder\n",
    "X = vec.transform(data['text_lem'])\n",
    "lenc = LabelEncoder()\n",
    "# кодируем таргет\n",
    "y = lenc.fit_transform(data['label'])"
   ]
  },
  {
   "cell_type": "code",
   "execution_count": 175,
   "metadata": {},
   "outputs": [
    {
     "data": {
      "text/plain": [
       "array([1.00000000e-12, 1.15688753e-12, 1.33838875e-12, 1.54836526e-12,\n",
       "       1.79128445e-12, 2.07231465e-12, 2.39743497e-12, 2.77356261e-12,\n",
       "       3.20870000e-12, 3.71210501e-12, 4.29448799e-12, 4.96823959e-12,\n",
       "       5.74769442e-12, 6.64943600e-12, 7.69264957e-12, 8.89953035e-12,\n",
       "       1.02957557e-11, 1.19110313e-11, 1.37797236e-11, 1.59415904e-11,\n",
       "       1.84426271e-11, 2.13360453e-11, 2.46834047e-11, 2.85559230e-11,\n",
       "       3.30359912e-11, 3.82189262e-11, 4.42149991e-11, 5.11517810e-11,\n",
       "       5.91768575e-11, 6.84609684e-11, 7.92016405e-11, 9.16273901e-11,\n",
       "       1.06002585e-10, 1.22633068e-10, 1.41872667e-10, 1.64130720e-10,\n",
       "       1.89880782e-10, 2.19670709e-10, 2.54134304e-10, 2.94004806e-10,\n",
       "       3.40130494e-10, 3.93492726e-10, 4.55226828e-10, 5.26646239e-10,\n",
       "       6.09270466e-10, 7.04857404e-10, 8.15440740e-10, 9.43373222e-10,\n",
       "       1.09137671e-09, 1.26260011e-09, 1.46068632e-09, 1.68984979e-09,\n",
       "       1.95496614e-09, 2.26167595e-09, 2.61650470e-09, 3.02700165e-09,\n",
       "       3.50190046e-09, 4.05130497e-09, 4.68690419e-09, 5.42222101e-09,\n",
       "       6.27289986e-09, 7.25703961e-09, 8.39557862e-09, 9.71274020e-09,\n",
       "       1.12365480e-08, 1.29994222e-08, 1.50388695e-08, 1.73982805e-08,\n",
       "       2.01278538e-08, 2.32856630e-08, 2.69388931e-08, 3.11652694e-08,\n",
       "       3.60547115e-08, 4.17112461e-08, 4.82552204e-08, 5.58258627e-08,\n",
       "       6.45842443e-08, 7.47167068e-08, 8.64388262e-08, 1.00000000e-07])"
      ]
     },
     "execution_count": 175,
     "metadata": {},
     "output_type": "execute_result"
    }
   ],
   "source": [
    "# диапазон подбора альфы\n",
    "import numpy as np\n",
    "alphas = np.logspace(-12, -7, 80)\n",
    "alphas"
   ]
  },
  {
   "cell_type": "code",
   "execution_count": 176,
   "metadata": {},
   "outputs": [
    {
     "data": {
      "text/plain": [
       "7521"
      ]
     },
     "execution_count": 176,
     "metadata": {},
     "output_type": "execute_result"
    }
   ],
   "source": [
    "# Длинна вектора\n",
    "len(vec.get_feature_names())"
   ]
  },
  {
   "cell_type": "code",
   "execution_count": 177,
   "metadata": {},
   "outputs": [],
   "source": [
    "# SGD и подбор параметра - альфа\n",
    "from sklearn.model_selection import validation_curve\n",
    "from sklearn.linear_model import SGDClassifier\n",
    "from sklearn.pipeline import Pipeline\n",
    "sgd_logit = SGDClassifier(loss='modified_huber', random_state=1, n_jobs=-1, max_iter=2000)\n",
    "logit_pipe = Pipeline([('sgd_logit', sgd_logit)])"
   ]
  },
  {
   "cell_type": "code",
   "execution_count": 178,
   "metadata": {},
   "outputs": [
    {
     "name": "stderr",
     "output_type": "stream",
     "text": [
      "/home/cat/anaconda3/lib/python3.7/site-packages/sklearn/linear_model/stochastic_gradient.py:183: FutureWarning: max_iter and tol parameters have been added in SGDClassifier in 0.19. If max_iter is set but tol is left unset, the default value for tol in 0.19 and 0.20 will be None (which is equivalent to -infinity, so it has no effect) but will change in 0.21 to 1e-3. Specify tol to silence this warning.\n",
      "  FutureWarning)\n"
     ]
    },
    {
     "name": "stdout",
     "output_type": "stream",
     "text": [
      "CPU times: user 1min 47s, sys: 3.33 ms, total: 1min 47s\n",
      "Wall time: 53.9 s\n"
     ]
    }
   ],
   "source": [
    "%%time\n",
    "val_train, val_test = validation_curve(logit_pipe, X, y, 'sgd_logit__alpha', alphas, cv=4, scoring='f1_micro')"
   ]
  },
  {
   "cell_type": "code",
   "execution_count": 179,
   "metadata": {},
   "outputs": [
    {
     "data": {
      "text/plain": [
       "7.257039612324231e-09"
      ]
     },
     "execution_count": 179,
     "metadata": {},
     "output_type": "execute_result"
    }
   ],
   "source": [
    "best_alpha = alphas[val_test.mean(1).argmax()]\n",
    "best_alpha"
   ]
  },
  {
   "cell_type": "code",
   "execution_count": 180,
   "metadata": {},
   "outputs": [
    {
     "data": {
      "text/plain": [
       "0.8234277296777297"
      ]
     },
     "execution_count": 180,
     "metadata": {},
     "output_type": "execute_result"
    }
   ],
   "source": [
    "val_test.mean(1).max()"
   ]
  },
  {
   "cell_type": "code",
   "execution_count": 181,
   "metadata": {},
   "outputs": [
    {
     "data": {
      "text/plain": [
       "0.8234277296777297"
      ]
     },
     "execution_count": 181,
     "metadata": {},
     "output_type": "execute_result"
    }
   ],
   "source": [
    "val_test.mean(1).max()"
   ]
  },
  {
   "cell_type": "code",
   "execution_count": null,
   "metadata": {},
   "outputs": [],
   "source": []
  },
  {
   "cell_type": "code",
   "execution_count": 182,
   "metadata": {},
   "outputs": [],
   "source": [
    "from matplotlib import pyplot as plt\n",
    "def plot_with_err(x, data, **kwargs):\n",
    "    mu, std = data.mean(1), data.std(1)\n",
    "    lines = plt.plot(x, mu, '-', **kwargs)\n",
    "    plt.fill_between(x, mu - std, mu + std, edgecolor='none',\n",
    "    facecolor=lines[0].get_color(), alpha=0.2)"
   ]
  },
  {
   "cell_type": "code",
   "execution_count": 183,
   "metadata": {},
   "outputs": [
    {
     "data": {
      "text/plain": [
       "<matplotlib.collections.PathCollection at 0x7f09916a6ef0>"
      ]
     },
     "execution_count": 183,
     "metadata": {},
     "output_type": "execute_result"
    },
    {
     "data": {
      "image/png": "[encoded data removed]",
      "text/plain": [
       "<Figure size 720x720 with 1 Axes>"
      ]
     },
     "metadata": {
      "needs_background": "light"
     },
     "output_type": "display_data"
    }
   ],
   "source": [
    "plt.figure(figsize=(10,10))\n",
    "plot_with_err(alphas, val_train, label='training scores')\n",
    "plot_with_err(alphas, val_test, label='validation scores')\n",
    "plt.xlabel(r'$\\alpha$')\n",
    "plt.ylabel('f1_micro')\n",
    "plt.legend();\n",
    "plt.scatter(best_alpha,val_test.mean(1).max())"
   ]
  },
  {
   "cell_type": "markdown",
   "metadata": {},
   "source": [
    "## Обучим модель"
   ]
  },
  {
   "cell_type": "code",
   "execution_count": 184,
   "metadata": {},
   "outputs": [],
   "source": [
    "from sklearn.model_selection import train_test_split"
   ]
  },
  {
   "cell_type": "code",
   "execution_count": 185,
   "metadata": {},
   "outputs": [],
   "source": [
    "X_train, X_holdout, y_train, y_holdout = train_test_split(X, y, test_size=0.3, random_state=1)"
   ]
  },
  {
   "cell_type": "code",
   "execution_count": 186,
   "metadata": {},
   "outputs": [
    {
     "name": "stdout",
     "output_type": "stream",
     "text": [
      "CPU times: user 307 ms, sys: 0 ns, total: 307 ms\n",
      "Wall time: 155 ms\n"
     ]
    },
    {
     "name": "stderr",
     "output_type": "stream",
     "text": [
      "/home/cat/anaconda3/lib/python3.7/site-packages/sklearn/linear_model/stochastic_gradient.py:152: DeprecationWarning: n_iter parameter is deprecated in 0.19 and will be removed in 0.21. Use max_iter and tol instead.\n",
      "  DeprecationWarning)\n"
     ]
    }
   ],
   "source": [
    "%%time\n",
    "  model = SGDClassifier(loss='modified_huber', random_state=1, n_jobs=-1,\n",
    "                          alpha=best_alpha, verbose=False, n_iter=2000).fit(X_train, y_train)\n",
    "  "
   ]
  },
  {
   "cell_type": "code",
   "execution_count": 187,
   "metadata": {},
   "outputs": [
    {
     "name": "stdout",
     "output_type": "stream",
     "text": [
      "Точность (accuracy) - 76.1%\n",
      "                precision    recall  f1-score   support\n",
      "\n",
      "    Depression       1.00      0.30      0.47        23\n",
      "Non-depression       0.73      1.00      0.85        44\n",
      "\n",
      "     micro avg       0.76      0.76      0.76        67\n",
      "     macro avg       0.87      0.65      0.66        67\n",
      "  weighted avg       0.82      0.76      0.72        67\n",
      "\n"
     ]
    }
   ],
   "source": [
    "from sklearn.metrics import accuracy_score\n",
    "from sklearn.metrics import classification_report\n",
    "y_pred = model.predict(X_holdout)\n",
    "print('Точность (accuracy) - {0:.1%}'.format(accuracy_score(y_holdout, y_pred)))\n",
    "print(classification_report(y_holdout, y_pred, target_names=lenc.classes_))"
   ]
  },
  {
   "cell_type": "code",
   "execution_count": 81,
   "metadata": {},
   "outputs": [
    {
     "name": "stdout",
     "output_type": "stream",
     "text": [
      "Точность (accuracy) - 76.1%\n",
      "                precision    recall  f1-score   support\n",
      "\n",
      "    Depression       1.00      0.30      0.47        23\n",
      "Non-depression       0.73      1.00      0.85        44\n",
      "\n",
      "     micro avg       0.76      0.76      0.76        67\n",
      "     macro avg       0.87      0.65      0.66        67\n",
      "  weighted avg       0.82      0.76      0.72        67\n",
      "\n"
     ]
    }
   ],
   "source": [
    "from sklearn.metrics import accuracy_score\n",
    "from sklearn.metrics import classification_report\n",
    "y_pred = model.predict(X_holdout)\n",
    "print('Точность (accuracy) - {0:.1%}'.format(accuracy_score(y_holdout, y_pred)))\n",
    "print(classification_report(y_holdout, y_pred, target_names=lenc.classes_))"
   ]
  },
  {
   "cell_type": "code",
   "execution_count": null,
   "metadata": {},
   "outputs": [],
   "source": []
  },
  {
   "cell_type": "code",
   "execution_count": null,
   "metadata": {},
   "outputs": [],
   "source": []
  },
  {
   "cell_type": "code",
   "execution_count": null,
   "metadata": {},
   "outputs": [],
   "source": []
  },
  {
   "cell_type": "code",
   "execution_count": null,
   "metadata": {},
   "outputs": [],
   "source": []
  },
  {
   "cell_type": "markdown",
   "metadata": {},
   "source": [
    "Используем bag-of-words в качестве признаков."
   ]
  },
  {
   "cell_type": "code",
   "execution_count": 82,
   "metadata": {},
   "outputs": [],
   "source": [
    "from sklearn.feature_extraction.text import CountVectorizer\n",
    "\n",
    "vectorizer = CountVectorizer()\n",
    "X = vectorizer.fit_transform(data['text_lem']).toarray()\n",
    "y = data['label'] == 'Depression'"
   ]
  },
  {
   "cell_type": "markdown",
   "metadata": {},
   "source": [
    "Будем обучать два простых алгоритма: <a href='http://www.machinelearning.ru/wiki/index.php?title=%D0%9C%D0%B5%D1%82%D0%BE%D0%B4_%D0%BE%D0%BF%D0%BE%D1%80%D0%BD%D1%8B%D1%85_%D0%B2%D0%B5%D0%BA%D1%82%D0%BE%D1%80%D0%BE%D0%B2'>SVM</a> и <a href='https://towardsdatascience.com/the-random-forest-algorithm-d457d499ffcd'>Random Forest</a>."
   ]
  },
  {
   "cell_type": "code",
   "execution_count": 83,
   "metadata": {},
   "outputs": [],
   "source": [
    "from sklearn.metrics import make_scorer\n",
    "from sklearn.metrics import roc_auc_score\n",
    "\n",
    "RANDOM_STATE = 1337\n",
    "\n",
    "rf_parameters = {\n",
    "    'n_estimators': (10, 100),\n",
    "    'max_features': ('sqrt', 'log2', None),\n",
    "    'max_depth': (None, 3, 10),\n",
    "    'min_samples_split': (2, 5),\n",
    "    'min_samples_leaf': (1, 3)\n",
    "}\n",
    "\n",
    "svm_parameters = {\n",
    "    'C': (0.01, 0.1, 1, 10),\n",
    "}\n",
    "\n",
    "grid_parameters = {\n",
    "    'scoring': make_scorer(roc_auc_score),\n",
    "    'n_jobs': -1,\n",
    "    'cv': 3,\n",
    "    'iid': True,\n",
    "    'return_train_score': True\n",
    "}"
   ]
  },
  {
   "cell_type": "markdown",
   "metadata": {},
   "source": [
    "Инициализируем модели и сетки для подбора параметров"
   ]
  },
  {
   "cell_type": "code",
   "execution_count": 84,
   "metadata": {},
   "outputs": [],
   "source": [
    "from sklearn.ensemble import RandomForestClassifier\n",
    "from sklearn.svm import SVC\n",
    "from sklearn.model_selection import GridSearchCV\n",
    "\n",
    "\n",
    "rf = RandomForestClassifier(n_jobs=-1, random_state=RANDOM_STATE)\n",
    "svm = SVC(random_state=RANDOM_STATE, probability=True)\n",
    "\n",
    "grid_rf = GridSearchCV(\n",
    "    estimator=rf,\n",
    "    param_grid=rf_parameters,\n",
    "    scoring=make_scorer(roc_auc_score),\n",
    "    n_jobs=-1,\n",
    "    cv=3,\n",
    "    iid=True,\n",
    "    return_train_score=True\n",
    ")\n",
    "\n",
    "grid_svm = GridSearchCV(\n",
    "    estimator=svm,\n",
    "    param_grid=svm_parameters,\n",
    "    scoring=make_scorer(roc_auc_score),\n",
    "    n_jobs=-1,\n",
    "    cv=3,\n",
    "    iid=True,\n",
    "    return_train_score=True\n",
    ")"
   ]
  },
  {
   "cell_type": "markdown",
   "metadata": {},
   "source": [
    "Обучаем модели и оцениваем точность"
   ]
  },
  {
   "cell_type": "code",
   "execution_count": 85,
   "metadata": {},
   "outputs": [
    {
     "name": "stderr",
     "output_type": "stream",
     "text": [
      "/home/cat/anaconda3/lib/python3.7/site-packages/sklearn/svm/base.py:196: FutureWarning: The default value of gamma will change from 'auto' to 'scale' in version 0.22 to account better for unscaled features. Set gamma explicitly to 'auto' or 'scale' to avoid this warning.\n",
      "  \"avoid this warning.\", FutureWarning)\n"
     ]
    },
    {
     "name": "stdout",
     "output_type": "stream",
     "text": [
      "Random Forest ROC AUC score:  0.6622608907356624\n",
      "SVM ROC AUC score:  0.7016583902736042\n"
     ]
    }
   ],
   "source": [
    "grid_rf.fit(X, y)\n",
    "grid_svm.fit(X, y)\n",
    "\n",
    "print('Random Forest ROC AUC score: ', grid_rf.best_score_)\n",
    "print('SVM ROC AUC score: ', grid_svm.best_score_)"
   ]
  },
  {
   "cell_type": "code",
   "execution_count": null,
   "metadata": {},
   "outputs": [],
   "source": []
  }
 ],
 "metadata": {
  "kernelspec": {
   "display_name": "Python 3",
   "language": "python",
   "name": "python3"
  },
  "language_info": {
   "codemirror_mode": {
    "name": "ipython",
    "version": 3
   },
   "file_extension": ".py",
   "mimetype": "text/x-python",
   "name": "python",
   "nbconvert_exporter": "python",
   "pygments_lexer": "ipython3",
   "version": "3.7.1"
  },
  "toc": {
   "base_numbering": 1,
   "nav_menu": {},
   "number_sections": true,
   "sideBar": true,
   "skip_h1_title": false,
   "title_cell": "Table of Contents",
   "title_sidebar": "Contents",
   "toc_cell": false,
   "toc_position": {},
   "toc_section_display": true,
   "toc_window_display": false
  }
 },
 "nbformat": 4,
 "nbformat_minor": 2
}
